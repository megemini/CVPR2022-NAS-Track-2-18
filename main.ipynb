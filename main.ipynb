{
 "cells": [
  {
   "cell_type": "markdown",
   "metadata": {},
   "source": [
    "## CVPR2022 NAS竞赛Track 2第18名方案\n",
    "\n",
    "方案说明：\n",
    "1. 本方案基于官方的[baseline](https://aistudio.baidu.com/aistudio/projectdetail/3720834)修改而来。\n",
    "2. 基于上述方案主要有两个方面的修改：\n",
    "    * 修改了模型的表达方式\n",
    "    * 修改了源GPNAS中的kernel function\n",
    "\n",
    "\n",
    "**模型表达方式**\n",
    "\n",
    "原始的模型表达方式（编码）太\"直观\"了，比如\"j111231321311311221231121111231000000\"这样的一串字符串，而模型的表达远比这来的要复杂，所以我的第一个想法就是如何表达模型。曾经尝试过用embdding的方式(可以参考NLP)，确实能够看到不同的embedding对模型的表示结果不同，但是反映到赛题上结果都很差。\n",
    "\n",
    "而我这里尝试直接修改原编码字符串，参考代码中的convert_X函数，分数直接由baseline的**0.66提升到0.76**。再简单微调一下就到了**0.78**，ab榜都在18名，而与第一名也就相差1个百分点。\n",
    "\n",
    "实话讲，不清楚为什么这样做会有这么大的提升，这样刷榜也实在不妥，所以比赛后半端就不再提交了...\n",
    "\n",
    "这里只能分享一下我修改编码字符串的一些经验：\n",
    "1. 编码字符串的长短与结果没有必然联系\n",
    "2. 原始字符串与拓展字符串拼接结果最好\n",
    "3. 拓展字符串需要能够最大程度区分原始串中\"1,2,3\"等表示方式，比如用5次方\n",
    "\n",
    "**GPNAS中的kernel function**\n",
    "\n",
    "GPNAS源代码中_get_corelation中提供了两个kernel function，而我这里直接使用np.abs，提升在1-2个百分点。\n",
    "```python\n",
    "    def _get_corelation(self, mat1, mat2):\n",
    "        \"\"\"\n",
    "        give two typical kernel function\n",
    "        \n",
    "        Auto kernel hyperparameters estimation to be updated\n",
    "        \"\"\"\n",
    "\n",
    "        mat_diff = abs(mat1 - mat2)\n",
    "\n",
    "        if self.c_flag == 1:\n",
    "\n",
    "            return 0.5 * np.exp(-np.dot(mat_diff, mat_diff) / 16)\n",
    "\n",
    "        elif self.c_flag == 2:\n",
    "\n",
    "            # return 1 * np.exp(-np.sqrt(np.dot(mat_diff, mat_diff)) / 12)\n",
    "            _data = np.dot(mat1, mat2)\n",
    "            return np.abs(_data)\n",
    "```\n",
    "\n",
    "**最后**\n",
    "\n",
    "这次成绩偶然成分较大，欢迎大家多多交流 ：）"
   ]
  },
  {
   "cell_type": "code",
   "execution_count": 1,
   "metadata": {
    "execution": {
     "iopub.execute_input": "2022-05-20T03:45:46.611188Z",
     "iopub.status.busy": "2022-05-20T03:45:46.610919Z",
     "iopub.status.idle": "2022-05-20T03:45:47.031553Z",
     "shell.execute_reply": "2022-05-20T03:45:47.030734Z",
     "shell.execute_reply.started": "2022-05-20T03:45:46.611155Z"
    },
    "scrolled": true,
    "tags": []
   },
   "outputs": [
    {
     "name": "stdout",
     "output_type": "stream",
     "text": [
      "data134077\n",
      "CVPR_2022_NAS_Track1_test.json\tCVPR_2022_NAS_Track2_train.json\n",
      "CVPR_2022_NAS_Track2_test.json\tresnet48.pdparams\n"
     ]
    }
   ],
   "source": [
    "!ls /home/aistudio/data\n",
    "!ls /home/aistudio/data/data134077"
   ]
  },
  {
   "cell_type": "code",
   "execution_count": 2,
   "metadata": {
    "execution": {
     "iopub.execute_input": "2022-05-20T03:45:47.034240Z",
     "iopub.status.busy": "2022-05-20T03:45:47.033530Z",
     "iopub.status.idle": "2022-05-20T03:45:48.513360Z",
     "shell.execute_reply": "2022-05-20T03:45:48.512527Z",
     "shell.execute_reply.started": "2022-05-20T03:45:47.034178Z"
    },
    "scrolled": true,
    "tags": []
   },
   "outputs": [],
   "source": [
    "import os\n",
    "import itertools\n",
    "import sklearn\n",
    "import numpy as np\n",
    "import lightgbm as lgb\n",
    "import matplotlib.pyplot as plt"
   ]
  },
  {
   "cell_type": "code",
   "execution_count": 3,
   "metadata": {
    "execution": {
     "iopub.execute_input": "2022-05-20T03:45:48.515334Z",
     "iopub.status.busy": "2022-05-20T03:45:48.514713Z",
     "iopub.status.idle": "2022-05-20T03:45:48.522099Z",
     "shell.execute_reply": "2022-05-20T03:45:48.521485Z",
     "shell.execute_reply.started": "2022-05-20T03:45:48.515302Z"
    },
    "scrolled": true,
    "tags": []
   },
   "outputs": [
    {
     "name": "stdout",
     "output_type": "stream",
     "text": [
      "{'cplfw_rank': 9, 'market1501_rank': 361, 'dukemtmc_rank': 426, 'msmt17_rank': 433, 'veri_rank': 327, 'vehicleid_rank': 480, 'veriwild_rank': 425, 'sop_rank': 367, 'arch': 'l231131331121121331111211121331321321'}\n",
      "train_num: 500\n"
     ]
    }
   ],
   "source": [
    "# 读取训练数据, 训练集包含500个模型结构，以及这些结构在cplfw，market1501，dukemtmc等8个任务上的性能排序\n",
    "import json\n",
    "with open('/home/aistudio/data/data134077/CVPR_2022_NAS_Track2_train.json', 'r') as f:\n",
    "    train_data = json.load(f)\n",
    "print(train_data['arch1'])\n",
    "print('train_num:',len(train_data.keys()))"
   ]
  },
  {
   "cell_type": "code",
   "execution_count": 4,
   "metadata": {
    "execution": {
     "iopub.execute_input": "2022-05-20T03:45:48.523147Z",
     "iopub.status.busy": "2022-05-20T03:45:48.522967Z",
     "iopub.status.idle": "2022-05-20T03:45:48.591456Z",
     "shell.execute_reply": "2022-05-20T03:45:48.590772Z",
     "shell.execute_reply.started": "2022-05-20T03:45:48.523126Z"
    },
    "scrolled": true,
    "tags": []
   },
   "outputs": [
    {
     "name": "stdout",
     "output_type": "stream",
     "text": [
      "[3, 2, 3, 1, 1, 3, 1, 3, 3, 1, 1, 2, 1, 1, 2, 1, 3, 3, 1, 1, 1, 1, 2, 1, 1, 1, 2, 1, 3, 3, 1, 3, 2, 1, 3, 2, 1, 0.1411200080598672, 0.9092974268256817, 0.1411200080598672, 0.8414709848078965, 0.8414709848078965, 0.1411200080598672, 0.8414709848078965, 0.1411200080598672, 0.1411200080598672, 0.8414709848078965, 0.8414709848078965, 0.9092974268256817, 0.8414709848078965, 0.8414709848078965, 0.9092974268256817, 0.8414709848078965, 0.1411200080598672, 0.1411200080598672, 0.8414709848078965, 0.8414709848078965, 0.8414709848078965, 0.8414709848078965, 0.9092974268256817, 0.8414709848078965, 0.8414709848078965, 0.8414709848078965, 0.9092974268256817, 0.8414709848078965, 0.1411200080598672, 0.1411200080598672, 0.8414709848078965, 0.1411200080598672, 0.9092974268256817, 0.8414709848078965, 0.1411200080598672, 0.9092974268256817, 0.8414709848078965, 20.085536923187668, 7.38905609893065, 20.085536923187668, 2.718281828459045, 2.718281828459045, 20.085536923187668, 2.718281828459045, 20.085536923187668, 20.085536923187668, 2.718281828459045, 2.718281828459045, 7.38905609893065, 2.718281828459045, 2.718281828459045, 7.38905609893065, 2.718281828459045, 20.085536923187668, 20.085536923187668, 2.718281828459045, 2.718281828459045, 2.718281828459045, 2.718281828459045, 7.38905609893065, 2.718281828459045, 2.718281828459045, 2.718281828459045, 7.38905609893065, 2.718281828459045, 20.085536923187668, 20.085536923187668, 2.718281828459045, 20.085536923187668, 7.38905609893065, 2.718281828459045, 20.085536923187668, 7.38905609893065, 2.718281828459045, 243, 32, 243, 1, 1, 243, 1, 243, 243, 1, 1, 32, 1, 1, 32, 1, 243, 243, 1, 1, 1, 1, 32, 1, 1, 1, 32, 1, 243, 243, 1, 243, 32, 1, 243, 32, 1] [2, 1, 1, 1, 2, 2, 1, 3, 2, 1, 1, 3, 1, 3, 3, 1, 3, 2, 1, 3, 1, 1, 3, 2, 1, 3, 1, 1, 3, 1, 1, 3, 2, 1, 0, 0, 0, 0.9092974268256817, 0.8414709848078965, 0.8414709848078965, 0.8414709848078965, 0.9092974268256817, 0.9092974268256817, 0.8414709848078965, 0.1411200080598672, 0.9092974268256817, 0.8414709848078965, 0.8414709848078965, 0.1411200080598672, 0.8414709848078965, 0.1411200080598672, 0.1411200080598672, 0.8414709848078965, 0.1411200080598672, 0.9092974268256817, 0.8414709848078965, 0.1411200080598672, 0.8414709848078965, 0.8414709848078965, 0.1411200080598672, 0.9092974268256817, 0.8414709848078965, 0.1411200080598672, 0.8414709848078965, 0.8414709848078965, 0.1411200080598672, 0.8414709848078965, 0.8414709848078965, 0.1411200080598672, 0.9092974268256817, 0.8414709848078965, 0.0, 0.0, 0.0, 7.38905609893065, 2.718281828459045, 2.718281828459045, 2.718281828459045, 7.38905609893065, 7.38905609893065, 2.718281828459045, 20.085536923187668, 7.38905609893065, 2.718281828459045, 2.718281828459045, 20.085536923187668, 2.718281828459045, 20.085536923187668, 20.085536923187668, 2.718281828459045, 20.085536923187668, 7.38905609893065, 2.718281828459045, 20.085536923187668, 2.718281828459045, 2.718281828459045, 20.085536923187668, 7.38905609893065, 2.718281828459045, 20.085536923187668, 2.718281828459045, 2.718281828459045, 20.085536923187668, 2.718281828459045, 2.718281828459045, 20.085536923187668, 7.38905609893065, 2.718281828459045, 0, 0, 0, 32, 1, 1, 1, 32, 32, 1, 243, 32, 1, 1, 243, 1, 243, 243, 1, 243, 32, 1, 243, 1, 1, 243, 32, 1, 243, 1, 1, 243, 1, 1, 243, 32, 1, 0, 0, 0]\n"
     ]
    }
   ],
   "source": [
    "def convert_X_raw(arch_str):\n",
    "    temp_arch = []\n",
    "    for elm in arch_str:\n",
    "        if elm == 'l':\n",
    "            temp_arch.append(1)\n",
    "        elif elm == 'j':\n",
    "            temp_arch.append(2)\n",
    "        elif elm == 'k':\n",
    "            temp_arch.append(3)\n",
    "        else: \n",
    "            temp_arch.append(int(elm))\n",
    "    return(temp_arch)\n",
    "\n",
    "def convert_X(arch_str):\n",
    "    temp_arch = []\n",
    "    # ‘j’，'k’和’l’分别表示10，11和12\n",
    "    _length = 0\n",
    "    _head = 0\n",
    "    if arch_str[0] == 'j':\n",
    "        _length = 10\n",
    "        _head = 1\n",
    "    elif arch_str[0] == 'k':\n",
    "        _length = 11\n",
    "        _head = 2\n",
    "    elif arch_str[0] == 'l':\n",
    "        _length = 12\n",
    "        _head = 3\n",
    "\n",
    "    temp_arch = temp_arch + [_head] + [int(s) for s in arch_str[1:]]\n",
    "    temp_arch = temp_arch + [np.sin(_head)] + [np.sin(int(s)) for s in arch_str[1:]]\n",
    "    temp_arch = temp_arch + [np.exp(_head)] + [np.exp(int(s)) for i in range(3)\n",
    "    for s in (arch_str[1+i*_length:1+(i+1)*_length])] + [0]*(12-_length)*3\n",
    "    temp_arch = temp_arch + [_head**5] + [int(s)**5 for i in range(3)\n",
    "    for s in (arch_str[1+i*_length:1+(i+1)*_length])] + [0]*(12-_length)*3\n",
    "\n",
    "    return temp_arch\n",
    "\n",
    "train_list = [[],[],[],[],[],[],[],[]]\n",
    "arch_list_train = []\n",
    "name_list = ['cplfw_rank', 'market1501_rank', 'dukemtmc_rank', 'msmt17_rank', 'veri_rank', 'vehicleid_rank', 'veriwild_rank', 'sop_rank']\n",
    "for key in train_data.keys():\n",
    "    for idx, name in enumerate(name_list):\n",
    "        train_list[idx].append(train_data[key][name])\n",
    "    arch_list_train.append(convert_X(train_data[key]['arch']))\n",
    "print(arch_list_train[0], arch_list_train[1])\n"
   ]
  },
  {
   "cell_type": "code",
   "execution_count": 5,
   "metadata": {
    "execution": {
     "iopub.execute_input": "2022-05-20T03:45:48.592969Z",
     "iopub.status.busy": "2022-05-20T03:45:48.592460Z",
     "iopub.status.idle": "2022-05-20T03:45:48.604222Z",
     "shell.execute_reply": "2022-05-20T03:45:48.603669Z",
     "shell.execute_reply.started": "2022-05-20T03:45:48.592942Z"
    },
    "scrolled": true,
    "tags": []
   },
   "outputs": [
    {
     "data": {
      "text/plain": [
       "(500, 148)"
      ]
     },
     "execution_count": 5,
     "metadata": {},
     "output_type": "execute_result"
    }
   ],
   "source": [
    "np.shape(arch_list_train)"
   ]
  },
  {
   "cell_type": "code",
   "execution_count": 6,
   "metadata": {
    "execution": {
     "iopub.execute_input": "2022-05-20T03:45:48.605511Z",
     "iopub.status.busy": "2022-05-20T03:45:48.605320Z",
     "iopub.status.idle": "2022-05-20T03:45:48.627680Z",
     "shell.execute_reply": "2022-05-20T03:45:48.627046Z",
     "shell.execute_reply.started": "2022-05-20T03:45:48.605491Z"
    },
    "scrolled": true,
    "tags": []
   },
   "outputs": [],
   "source": [
    "\n",
    "#\n",
    "#     http://www.apache.org/licenses/LICENSE-2.0\n",
    "#\n",
    "# Unless required by applicable law or agreed to in writing, software\n",
    "# distributed under the License is distributed on an \"AS IS\" BASIS,\n",
    "# WITHOUT WARRANTIES OR CONDITIONS OF ANY KIND, either express or implied.\n",
    "# See the License for the specific language governing permissions and\n",
    "# limitations under the License.\n",
    "\n",
    "import numpy as np\n",
    "import copy\n",
    "\n",
    "# __all__ = [\"GPNAS\"]\n",
    "\n",
    "\n",
    "class GPNAS(object):\n",
    "    \"\"\"\n",
    "    GPNAS(Gaussian Process based Neural Architecture Search) is a neural architecture search algorithm. \n",
    "    We model the correlation between architectue and performance from a Bayesian perspective. Specifically, by introducing a novel Gaussian Process based\n",
    "    NAS (GP-NAS) method, the correlations are modeled by the kernel function and mean function. The kernel function is also learnable to enable adaptive modeling for complex \n",
    "    correlations in different search spaces. Furthermore, by in-corporating a mutual information based sampling method, we can theoretically ensure the high-performance \n",
    "    architecture with only a small set of samples. After addressing these problems, training GP-NAS once enables direct performance prediction of any architecture in different \n",
    "    scenarios and may obtain efficient networks for different deployment platforms.\n",
    "    \"\"\"\n",
    "\n",
    "    def __init__(self, c_flag=2, m_flag=2):\n",
    "\n",
    "        self.hp_mat = 0.0000001\n",
    "        self.hp_cov = 0.01\n",
    "        self.cov_w = None\n",
    "        self.w = None\n",
    "        self.c_flag = c_flag\n",
    "        self.m_flag = m_flag\n",
    "\n",
    "    def _get_corelation(self, mat1, mat2):\n",
    "        \"\"\"\n",
    "        give two typical kernel function\n",
    "        \n",
    "        Auto kernel hyperparameters estimation to be updated\n",
    "        \"\"\"\n",
    "\n",
    "        mat_diff = abs(mat1 - mat2)\n",
    "\n",
    "        if self.c_flag == 1:\n",
    "\n",
    "            return 0.5 * np.exp(-np.dot(mat_diff, mat_diff) / 16)\n",
    "\n",
    "        elif self.c_flag == 2:\n",
    "\n",
    "            # return 1 * np.exp(-np.sqrt(np.dot(mat_diff, mat_diff)) / 12)\n",
    "            _data = np.dot(mat1, mat2)\n",
    "            return np.abs(_data)\n",
    "\n",
    "    def _preprocess_X(self, X):\n",
    "        \"\"\"\n",
    "        preprocess of input feature/ tokens of architecture\n",
    "        more complicated preprocess can be added such as nonlineaer transformation\n",
    "        \"\"\"\n",
    "\n",
    "        X = X.tolist()\n",
    "        p_X = copy.deepcopy(X)\n",
    "\n",
    "        # for feature in p_X:\n",
    "        #     feature.append(1)\n",
    "        \n",
    "        return p_X\n",
    "\n",
    "    def _get_cor_mat(self, X):\n",
    "        \"\"\"\n",
    "        get kernel matrix\n",
    "        \"\"\"\n",
    "        X = np.array(X)\n",
    "        l = X.shape[0]\n",
    "        cor_mat = []\n",
    "\n",
    "        for c_idx in range(l):\n",
    "            col = []\n",
    "            c_mat = X[c_idx].copy()\n",
    "\n",
    "            for r_idx in range(l):\n",
    "                r_mat = X[r_idx].copy()\n",
    "                temp_cor = self._get_corelation(c_mat, r_mat)\n",
    "                col.append(temp_cor)\n",
    "            cor_mat.append(col)\n",
    "\n",
    "        return np.mat(cor_mat)\n",
    "\n",
    "    def _get_cor_mat_joint(self, X, X_train):\n",
    "        \"\"\"\n",
    "        get kernel matrix\n",
    "        \"\"\"\n",
    "        X = np.array(X)\n",
    "        X_train = np.array(X_train)\n",
    "        l_c = X.shape[0]\n",
    "        l_r = X_train.shape[0]\n",
    "        cor_mat = []\n",
    "\n",
    "        for c_idx in range(l_c):\n",
    "            col = []\n",
    "            c_mat = X[c_idx].copy()\n",
    "\n",
    "            for r_idx in range(l_r):\n",
    "                r_mat = X_train[r_idx].copy()\n",
    "                temp_cor = self._get_corelation(c_mat, r_mat)\n",
    "                col.append(temp_cor)\n",
    "            cor_mat.append(col)\n",
    "\n",
    "        return np.mat(cor_mat)\n",
    "\n",
    "    def get_predict(self, X):\n",
    "        \"\"\"\n",
    "        get the prediction of network architecture X\n",
    "        \"\"\"\n",
    "        X = self._preprocess_X(X)\n",
    "        X = np.mat(X)\n",
    "\n",
    "        return X * self.w\n",
    "\n",
    "    def get_predict_jiont(self, X, X_train, Y_train):\n",
    "        \"\"\"\n",
    "        get the prediction of network architecture X based on X_train and Y_train\n",
    "        \"\"\"\n",
    "        X = np.mat(X)\n",
    "        X_train = np.mat(X_train)\n",
    "        Y_train = np.mat(Y_train)\n",
    "        m_X = self.get_predict(X)\n",
    "        m_X_train = self.get_predict(X_train)\n",
    "        mat_train = self._get_cor_mat(X_train)\n",
    "        mat_joint = self._get_cor_mat_joint(X, X_train)\n",
    "\n",
    "        return m_X + mat_joint * np.linalg.inv(mat_train + self.hp_mat * np.eye(\n",
    "            X_train.shape[0])) * (Y_train.T - m_X_train)\n",
    "\n",
    "    def get_initial_mean(self, X, Y):\n",
    "        \"\"\"\n",
    "        get initial mean of w\n",
    "        \"\"\"\n",
    "\n",
    "        X = self._preprocess_X(X)\n",
    "        X = np.mat(X)\n",
    "        Y = np.mat(Y)\n",
    "        self.w = np.linalg.inv(X.T * X + self.hp_mat * np.eye(X.shape[\n",
    "            1])) * X.T * Y.T\n",
    "\n",
    "        return self.w\n",
    "\n",
    "    def get_initial_cov(self, X):\n",
    "        \"\"\"\n",
    "        get initial coviarnce matrix of w\n",
    "        \"\"\"\n",
    "\n",
    "        X = self._preprocess_X(X)\n",
    "        X = np.mat(X)\n",
    "        self.cov_w = self.hp_cov * np.eye(X.shape[1])\n",
    "\n",
    "        return self.cov_w\n",
    "\n",
    "    def get_posterior_mean(self, X, Y):\n",
    "        \"\"\"\n",
    "        get posterior mean of w\n",
    "        \"\"\"\n",
    "\n",
    "        X = self._preprocess_X(X)\n",
    "        X = np.mat(X)\n",
    "        Y = np.mat(Y)\n",
    "        cov_mat = self._get_cor_mat(X)\n",
    "        if self.m_flag == 1:\n",
    "            self.w = self.w + self.cov_w * X.T * np.linalg.inv(\n",
    "                np.linalg.inv(cov_mat + self.hp_mat * np.eye(X.shape[0])) + X *\n",
    "                self.cov_w * X.T + self.hp_mat * np.eye(X.shape[0])) * (\n",
    "                    Y.T - X * self.w)\n",
    "        else:\n",
    "            self.w = np.linalg.inv(X.T * np.linalg.inv(\n",
    "                cov_mat + self.hp_mat * np.eye(X.shape[0])) * X + np.linalg.inv(\n",
    "                    self.cov_w + self.hp_mat * np.eye(X.shape[\n",
    "                        1])) + self.hp_mat * np.eye(X.shape[1])) * (\n",
    "                            X.T * np.linalg.inv(cov_mat + self.hp_mat * np.eye(\n",
    "                                X.shape[0])) * Y.T +\n",
    "                            np.linalg.inv(self.cov_w + self.hp_mat * np.eye(\n",
    "                                X.shape[1])) * self.w)\n",
    "\n",
    "        return self.w\n",
    "\n",
    "    def get_posterior_cov(self, X, Y):\n",
    "        \"\"\"\n",
    "        get posterior coviarnce matrix of w\n",
    "        \"\"\"\n",
    "\n",
    "        X = self._preprocess_X(X)\n",
    "        X = np.mat(X)\n",
    "        Y = np.mat(Y)\n",
    "        cov_mat = self._get_cor_mat(X)\n",
    "        self.cov_mat = np.linalg.inv(\n",
    "            np.linalg.inv(X.T * cov_mat * X + self.hp_mat * np.eye(X.shape[1]))\n",
    "            + np.linalg.inv(self.cov_w + self.hp_mat * np.eye(X.shape[\n",
    "                1])) + self.hp_mat * np.eye(X.shape[1]))\n",
    "\n",
    "        return self.cov_mat"
   ]
  },
  {
   "cell_type": "code",
   "execution_count": 7,
   "metadata": {
    "execution": {
     "iopub.execute_input": "2022-05-20T03:45:48.628832Z",
     "iopub.status.busy": "2022-05-20T03:45:48.628640Z",
     "iopub.status.idle": "2022-05-20T03:45:48.639377Z",
     "shell.execute_reply": "2022-05-20T03:45:48.638766Z",
     "shell.execute_reply.started": "2022-05-20T03:45:48.628811Z"
    },
    "scrolled": true,
    "tags": []
   },
   "outputs": [
    {
     "name": "stdout",
     "output_type": "stream",
     "text": [
      "(500, 148) (8, 500)\n"
     ]
    }
   ],
   "source": [
    "data_x = np.array(arch_list_train)\n",
    "data_y = np.array(train_list)\n",
    "print(data_x.shape, data_y.shape)"
   ]
  },
  {
   "cell_type": "code",
   "execution_count": 8,
   "metadata": {
    "execution": {
     "iopub.execute_input": "2022-05-20T03:45:48.640824Z",
     "iopub.status.busy": "2022-05-20T03:45:48.640478Z",
     "iopub.status.idle": "2022-05-20T04:11:39.442336Z",
     "shell.execute_reply": "2022-05-20T04:11:39.441596Z",
     "shell.execute_reply.started": "2022-05-20T03:45:48.640801Z"
    },
    "scrolled": true,
    "tags": []
   },
   "outputs": [
    {
     "name": "stdout",
     "output_type": "stream",
     "text": [
      "AVE mean gp : 1.299788574090299\n",
      "AVE mean gp jonit : 1.0723321789788158\n",
      "Kendalltau: KendalltauResult(correlation=0.16842105263157894, pvalue=0.3188964804719496)\n",
      "Kendalltau joint: KendalltauResult(correlation=0.23157894736842105, pvalue=0.1649764063636054)\n",
      "AVE mean gp : 0.26316373137516885\n",
      "AVE mean gp jonit : 0.22960139533501134\n",
      "Kendalltau: KendalltauResult(correlation=0.6947368421052632, pvalue=3.318592792384182e-06)\n",
      "Kendalltau joint: KendalltauResult(correlation=0.6947368421052632, pvalue=3.318592792384182e-06)\n",
      "AVE mean gp : 0.2908729038847623\n",
      "AVE mean gp jonit : 0.3587614045704137\n",
      "Kendalltau: KendalltauResult(correlation=0.9263157894736842, pvalue=4.97267870195355e-13)\n",
      "Kendalltau joint: KendalltauResult(correlation=0.9263157894736842, pvalue=4.97267870195355e-13)\n",
      "AVE mean gp : 0.9686897408607986\n",
      "AVE mean gp jonit : 0.8820272111648467\n",
      "Kendalltau: KendalltauResult(correlation=0.9473684210526316, pvalue=3.348593561359954e-14)\n",
      "Kendalltau joint: KendalltauResult(correlation=0.9157894736842106, pvalue=1.637252132068114e-12)\n",
      "AVE mean gp : 0.3936245239052972\n",
      "AVE mean gp jonit : 0.32119456029801186\n",
      "Kendalltau: KendalltauResult(correlation=0.9263157894736842, pvalue=4.97267870195355e-13)\n",
      "Kendalltau joint: KendalltauResult(correlation=0.9263157894736842, pvalue=4.97267870195355e-13)\n",
      "AVE mean gp : 0.37736023476766356\n",
      "AVE mean gp jonit : 0.3311073952131503\n",
      "Kendalltau: KendalltauResult(correlation=0.7263157894736842, pvalue=8.334889271753901e-07)\n",
      "Kendalltau joint: KendalltauResult(correlation=0.7368421052631579, pvalue=5.089279304093134e-07)\n",
      "AVE mean gp : 0.8331269635708216\n",
      "AVE mean gp jonit : 0.7163080760790616\n",
      "Kendalltau: KendalltauResult(correlation=0.9263157894736842, pvalue=4.97267870195355e-13)\n",
      "Kendalltau joint: KendalltauResult(correlation=0.9368421052631579, pvalue=1.3686946653867177e-13)\n",
      "AVE mean gp : 3.246776509285374\n",
      "AVE mean gp jonit : 2.5000252682944244\n",
      "Kendalltau: KendalltauResult(correlation=0.8105263157894737, pvalue=9.06108549128192e-09)\n",
      "Kendalltau joint: KendalltauResult(correlation=0.8631578947368421, pvalue=2.1870145045372028e-10)\n",
      "amg DescribeResult(nobs=8, minmax=(0.26316373137516885, 3.246776509285374), mean=0.9591753977175231, variance=0.9935045785281993, skewness=1.6957062789398027, kurtosis=1.6397168658929804)\n",
      "amgl DescribeResult(nobs=8, minmax=(0.22960139533501134, 2.5000252682944244), mean=0.8014196862417169, variance=0.5638754851697432, skewness=1.5986186967458167, kurtosis=1.404481859417137)\n",
      "kt DescribeResult(nobs=8, minmax=(array([1.68421053e-01, 3.34859356e-14]), array([0.94736842, 0.31889648])), mean=array([0.76578947, 0.03986258]), variance=array([0.06796201, 0.01271182]), skewness=array([-1.68176756,  2.26778684]), kurtosis=array([1.61119243, 3.14285714]))\n",
      "ktj DescribeResult(nobs=8, minmax=(array([2.31578947e-01, 1.36869467e-13]), array([0.93684211, 0.16497641])), mean=array([0.77894737, 0.02062253]), variance=array([0.05752275, 0.00340213]), skewness=array([-1.67345031,  2.26778684]), kurtosis=array([1.52891529, 3.14285714]))\n"
     ]
    }
   ],
   "source": [
    "# from paddleslim.nas import GPNAS\n",
    "import numpy as np\n",
    "import scipy\n",
    "import scipy.stats\n",
    "\n",
    "gp_list = []\n",
    "\n",
    "\n",
    "for i in range(len(train_list[:])):\n",
    "    # 每个任务有该任务专属的gpnas预测器\n",
    "    gp_list.append(GPNAS(2,2)) # baseline\n",
    "    # gp_list.append(GPNAS(1,2)) # v1\n",
    "    # gp_list.append(GPNAS(1,1)) # v2\n",
    "    # gp_list.append(GPNAS(2,1)) # v3\n",
    "\n",
    "train_num = 480\n",
    "\n",
    "amg_list = []\n",
    "amgj_list = []\n",
    "kt_list = []\n",
    "ktj_list = []\n",
    "\n",
    "for i in range(len(train_list[:])):\n",
    "    # 划分训练及测试集\n",
    "    X_all_k, Y_all_k  = data_x, data_y[i]\n",
    "    X_train_k, Y_train_k, X_test_k, Y_test_k = X_all_k[0:train_num:1], Y_all_k[0:train_num:1], X_all_k[train_num::1], Y_all_k[train_num::1]\n",
    "    # 初始该任务的gpnas预测器参数\n",
    "    gp_list[i].get_initial_mean(X_train_k[0::2],Y_train_k[0::2])\n",
    "    init_cov = gp_list[i].get_initial_cov(X_train_k)\n",
    "    # 更新（训练）gpnas预测器超参数\n",
    "    gp_list[i].get_posterior_mean(X_train_k[1::2],Y_train_k[1::2])  \n",
    "   \n",
    "    # 基于测试评估预测误差   \n",
    "    y_pred = gp_list[i].get_predict(X_test_k)\n",
    "    y_pred_joint = gp_list[i].get_predict_jiont(X_test_k, X_train_k[::1], Y_train_k[::1])\n",
    "\n",
    "    error_list_gp = np.array(Y_test_k.reshape(len(Y_test_k),1)-y_pred)\n",
    "    error_list_gp_j = np.array(Y_test_k.reshape(len(Y_test_k),1)-y_pred_joint)\n",
    "    \n",
    "    ave_mean_gp = np.mean(abs(np.divide(error_list_gp,Y_test_k.reshape(len(Y_test_k),1) )))\n",
    "    ave_mean_gp_joint = np.mean(abs(np.divide(error_list_gp_j,Y_test_k.reshape(len(Y_test_k),1) )))\n",
    "    print('AVE mean gp :', ave_mean_gp)\n",
    "    print('AVE mean gp jonit :', ave_mean_gp_joint)\n",
    "    # y_predict = gp_list[i].get_predict_jiont(X_test_k, X_train_k[::1], Y_train_k[::1])\n",
    "\n",
    "    #基于测试集评估预测的Kendalltau\n",
    "    kt = scipy.stats.stats.kendalltau(y_pred,Y_test_k)\n",
    "    print('Kendalltau:', kt)\n",
    "    ktj = scipy.stats.stats.kendalltau(y_pred_joint,Y_test_k)\n",
    "    print('Kendalltau joint:', ktj)\n",
    "\n",
    "    amg_list.append(ave_mean_gp)\n",
    "    amgj_list.append(ave_mean_gp_joint)\n",
    "    kt_list.append(kt)\n",
    "    ktj_list.append(ktj)\n",
    "\n",
    "import scipy.stats\n",
    "print('amg', scipy.stats.describe(amg_list))\n",
    "print('amgl', scipy.stats.describe(amgj_list))\n",
    "print('kt', scipy.stats.describe(kt_list))\n",
    "print('ktj', scipy.stats.describe(ktj_list))\n"
   ]
  },
  {
   "cell_type": "code",
   "execution_count": 9,
   "metadata": {
    "execution": {
     "iopub.execute_input": "2022-05-20T04:11:39.444176Z",
     "iopub.status.busy": "2022-05-20T04:11:39.443428Z",
     "iopub.status.idle": "2022-05-20T04:11:39.476599Z",
     "shell.execute_reply": "2022-05-20T04:11:39.475926Z",
     "shell.execute_reply.started": "2022-05-20T04:11:39.444143Z"
    },
    "scrolled": true,
    "tags": []
   },
   "outputs": [],
   "source": [
    "y_predict = y_pred"
   ]
  },
  {
   "cell_type": "code",
   "execution_count": 10,
   "metadata": {
    "execution": {
     "iopub.execute_input": "2022-05-20T04:11:39.478104Z",
     "iopub.status.busy": "2022-05-20T04:11:39.477633Z",
     "iopub.status.idle": "2022-05-20T04:11:39.801079Z",
     "shell.execute_reply": "2022-05-20T04:11:39.800421Z",
     "shell.execute_reply.started": "2022-05-20T04:11:39.478079Z"
    },
    "scrolled": true,
    "tags": []
   },
   "outputs": [
    {
     "data": {
      "text/plain": [
       "[<matplotlib.lines.Line2D at 0x7fad212ee050>]"
      ]
     },
     "execution_count": 10,
     "metadata": {},
     "output_type": "execute_result"
    },
    {
     "data": {
      "image/png": "[encoded data removed]",
      "text/plain": [
       "<Figure size 432x288 with 1 Axes>"
      ]
     },
     "metadata": {
      "needs_background": "light"
     },
     "output_type": "display_data"
    }
   ],
   "source": [
    "plt.plot(y_predict)\n",
    "plt.plot(Y_test_k)"
   ]
  },
  {
   "cell_type": "code",
   "execution_count": null,
   "metadata": {
    "scrolled": true
   },
   "outputs": [],
   "source": []
  },
  {
   "cell_type": "code",
   "execution_count": 11,
   "metadata": {
    "execution": {
     "iopub.execute_input": "2022-05-20T04:11:39.804039Z",
     "iopub.status.busy": "2022-05-20T04:11:39.803542Z",
     "iopub.status.idle": "2022-05-20T04:11:40.188527Z",
     "shell.execute_reply": "2022-05-20T04:11:40.187982Z",
     "shell.execute_reply.started": "2022-05-20T04:11:39.804009Z"
    },
    "scrolled": true,
    "tags": []
   },
   "outputs": [
    {
     "data": {
      "text/plain": [
       "{'cplfw_rank': 0,\n",
       " 'market1501_rank': 0,\n",
       " 'dukemtmc_rank': 0,\n",
       " 'msmt17_rank': 0,\n",
       " 'veri_rank': 0,\n",
       " 'vehicleid_rank': 0,\n",
       " 'veriwild_rank': 0,\n",
       " 'sop_rank': 0,\n",
       " 'arch': 'j121221121221221311331321121221000000'}"
      ]
     },
     "execution_count": 11,
     "metadata": {},
     "output_type": "execute_result"
    }
   ],
   "source": [
    "with open('/home/aistudio/data/data134077/CVPR_2022_NAS_Track2_test.json', 'r') as f:\n",
    "    test_data = json.load(f)\n",
    "test_data['arch99997']\n"
   ]
  },
  {
   "cell_type": "code",
   "execution_count": 12,
   "metadata": {
    "execution": {
     "iopub.execute_input": "2022-05-20T04:11:40.189989Z",
     "iopub.status.busy": "2022-05-20T04:11:40.189529Z",
     "iopub.status.idle": "2022-05-20T04:11:51.893288Z",
     "shell.execute_reply": "2022-05-20T04:11:51.892501Z",
     "shell.execute_reply.started": "2022-05-20T04:11:40.189963Z"
    },
    "scrolled": true,
    "tags": []
   },
   "outputs": [
    {
     "name": "stdout",
     "output_type": "stream",
     "text": [
      "[3, 2, 2, 1, 3, 3, 1, 1, 1, 1, 2, 2, 1, 1, 3, 1, 2, 1, 1, 1, 1, 1, 1, 2, 1, 2, 3, 1, 3, 1, 1, 3, 2, 1, 3, 3, 1, 0.1411200080598672, 0.9092974268256817, 0.9092974268256817, 0.8414709848078965, 0.1411200080598672, 0.1411200080598672, 0.8414709848078965, 0.8414709848078965, 0.8414709848078965, 0.8414709848078965, 0.9092974268256817, 0.9092974268256817, 0.8414709848078965, 0.8414709848078965, 0.1411200080598672, 0.8414709848078965, 0.9092974268256817, 0.8414709848078965, 0.8414709848078965, 0.8414709848078965, 0.8414709848078965, 0.8414709848078965, 0.8414709848078965, 0.9092974268256817, 0.8414709848078965, 0.9092974268256817, 0.1411200080598672, 0.8414709848078965, 0.1411200080598672, 0.8414709848078965, 0.8414709848078965, 0.1411200080598672, 0.9092974268256817, 0.8414709848078965, 0.1411200080598672, 0.1411200080598672, 0.8414709848078965, 20.085536923187668, 7.38905609893065, 7.38905609893065, 2.718281828459045, 20.085536923187668, 20.085536923187668, 2.718281828459045, 2.718281828459045, 2.718281828459045, 2.718281828459045, 7.38905609893065, 7.38905609893065, 2.718281828459045, 2.718281828459045, 20.085536923187668, 2.718281828459045, 7.38905609893065, 2.718281828459045, 2.718281828459045, 2.718281828459045, 2.718281828459045, 2.718281828459045, 2.718281828459045, 7.38905609893065, 2.718281828459045, 7.38905609893065, 20.085536923187668, 2.718281828459045, 20.085536923187668, 2.718281828459045, 2.718281828459045, 20.085536923187668, 7.38905609893065, 2.718281828459045, 20.085536923187668, 20.085536923187668, 2.718281828459045, 243, 32, 32, 1, 243, 243, 1, 1, 1, 1, 32, 32, 1, 1, 243, 1, 32, 1, 1, 1, 1, 1, 1, 32, 1, 32, 243, 1, 243, 1, 1, 243, 32, 1, 243, 243, 1]\n"
     ]
    }
   ],
   "source": [
    "test_arch_list = []\n",
    "for key in test_data.keys():\n",
    "    test_arch =  convert_X(test_data[key]['arch'])\n",
    "    test_arch_list.append(test_arch)\n",
    "print(test_arch_list[99499])\n"
   ]
  },
  {
   "cell_type": "code",
   "execution_count": null,
   "metadata": {
    "execution": {
     "iopub.execute_input": "2022-05-20T04:11:51.894916Z",
     "iopub.status.busy": "2022-05-20T04:11:51.894356Z"
    },
    "scrolled": true,
    "tags": []
   },
   "outputs": [
    {
     "name": "stdout",
     "output_type": "stream",
     "text": [
      "Predict the rank of: cplfw_rank\n",
      "Predict the rank of: market1501_rank\n",
      "Predict the rank of: dukemtmc_rank\n",
      "Predict the rank of: msmt17_rank\n",
      "Predict the rank of: veri_rank\n",
      "Predict the rank of: vehicleid_rank\n",
      "Predict the rank of: veriwild_rank\n",
      "Predict the rank of: sop_rank\n"
     ]
    }
   ],
   "source": [
    "rank_all_slow = []\n",
    "rank_all_fast = []\n",
    "for task in range(len(name_list)):\n",
    "    print('Predict the rank of:', name_list[task])\n",
    "    # slow mode\n",
    "    rank_all_slow.append(gp_list[task].get_predict_jiont(np.array(test_arch_list), np.array(arch_list_train), np.array(train_list[task])))\n",
    "    # fast mode\n",
    "    rank_all_fast.append(gp_list[task].get_predict(np.array(test_arch_list)))\n"
   ]
  },
  {
   "cell_type": "code",
   "execution_count": null,
   "metadata": {
    "scrolled": true,
    "tags": []
   },
   "outputs": [],
   "source": [
    "base_i = 1\n",
    "for idx,key in enumerate(test_data.keys()):\n",
    "    test_data[key]['cplfw_rank'] = int(rank_all_fast[0][idx][0]*base_i)\n",
    "    test_data[key]['market1501_rank'] = int(rank_all_fast[1][idx][0]*base_i)\n",
    "    test_data[key]['dukemtmc_rank'] = int(rank_all_fast[2][idx][0]*base_i)\n",
    "    test_data[key]['msmt17_rank'] = int(rank_all_fast[3][idx][0]*base_i)\n",
    "    test_data[key]['veri_rank'] = int(rank_all_fast[4][idx][0]*base_i)\n",
    "    test_data[key]['vehicleid_rank'] = int(rank_all_fast[5][idx][0]*base_i)\n",
    "    test_data[key]['veriwild_rank'] = int(rank_all_fast[6][idx][0]*base_i)\n",
    "    test_data[key]['sop_rank'] = int(rank_all_fast[7][idx][0]*base_i)\n",
    "print('Ready to save results!')\n",
    "with open('./result/submit_gpnas_v6_6_fast.json', 'w') as f:\n",
    "    json.dump(test_data, f)\n"
   ]
  },
  {
   "cell_type": "code",
   "execution_count": null,
   "metadata": {
    "scrolled": true,
    "tags": []
   },
   "outputs": [],
   "source": [
    "base_i = 1\n",
    "for idx,key in enumerate(test_data.keys()):\n",
    "    test_data[key]['cplfw_rank'] = int(rank_all_slow[0][idx][0]*base_i)\n",
    "    test_data[key]['market1501_rank'] = int(rank_all_slow[1][idx][0]*base_i)\n",
    "    test_data[key]['dukemtmc_rank'] = int(rank_all_slow[2][idx][0]*base_i)\n",
    "    test_data[key]['msmt17_rank'] = int(rank_all_slow[3][idx][0]*base_i)\n",
    "    test_data[key]['veri_rank'] = int(rank_all_slow[4][idx][0]*base_i)\n",
    "    test_data[key]['vehicleid_rank'] = int(rank_all_slow[5][idx][0]*base_i)\n",
    "    test_data[key]['veriwild_rank'] = int(rank_all_slow[6][idx][0]*base_i)\n",
    "    test_data[key]['sop_rank'] = int(rank_all_slow[7][idx][0]*base_i)\n",
    "print('Ready to save results!')\n",
    "with open('./result/submit_gpnas_v6_6_slow.json', 'w') as f:\n",
    "    json.dump(test_data, f)\n"
   ]
  },
  {
   "cell_type": "code",
   "execution_count": null,
   "metadata": {
    "scrolled": true
   },
   "outputs": [],
   "source": []
  },
  {
   "cell_type": "code",
   "execution_count": null,
   "metadata": {
    "scrolled": true
   },
   "outputs": [],
   "source": []
  }
 ],
 "metadata": {
  "kernelspec": {
   "display_name": "Python 3",
   "language": "python",
   "name": "py35-paddle1.2.0"
  },
  "language_info": {
   "codemirror_mode": {
    "name": "ipython",
    "version": 3
   },
   "file_extension": ".py",
   "mimetype": "text/x-python",
   "name": "python",
   "nbconvert_exporter": "python",
   "pygments_lexer": "ipython3",
   "version": "3.7.4"
  }
 },
 "nbformat": 4,
 "nbformat_minor": 4
}
